{
  "nbformat": 4,
  "nbformat_minor": 0,
  "metadata": {
    "colab": {
      "name": "ML_temperatures.ipynb",
      "provenance": [],
      "authorship_tag": "ABX9TyPWcsaXciaVyirqmmviPIPs",
      "include_colab_link": true
    },
    "kernelspec": {
      "name": "python3",
      "display_name": "Python 3"
    },
    "language_info": {
      "name": "python"
    }
  },
  "cells": [
    {
      "cell_type": "markdown",
      "metadata": {
        "id": "view-in-github",
        "colab_type": "text"
      },
      "source": [
        "<a href=\"https://colab.research.google.com/github/victorpaolo/python_AI_temperatures/blob/main/ML_temperatures.ipynb\" target=\"_parent\"><img src=\"https://colab.research.google.com/assets/colab-badge.svg\" alt=\"Open In Colab\"/></a>"
      ]
    },
    {
      "cell_type": "markdown",
      "source": [
        "#Temperatures ML 2 ways\n",
        "Within this project we want to know how the Machine Learning works using TensorFlow (Google library for ML)\n",
        "\n",
        "\n"
      ],
      "metadata": {
        "id": "MiKFDOWCm37d"
      }
    },
    {
      "cell_type": "markdown",
      "source": [
        "1- Import tensorflow for ML abd numpy for "
      ],
      "metadata": {
        "id": "eggdIUrRpOi0"
      }
    },
    {
      "cell_type": "code",
      "execution_count": null,
      "metadata": {
        "id": "YfZfz020i-3V"
      },
      "outputs": [],
      "source": [
        "import tensorflow as tf\n",
        "import numpy as np"
      ]
    },
    {
      "cell_type": "code",
      "source": [
        "celcius = np.array([-40,-10,0,8,15,22,38], dtype=float)\n",
        "fahrenheit = np.array([-40,14,32,46,59,72,100], dtype=float)"
      ],
      "metadata": {
        "id": "L0HasRKojE0G"
      },
      "execution_count": null,
      "outputs": []
    },
    {
      "cell_type": "markdown",
      "source": [
        "##Celcius to Fahrenheit"
      ],
      "metadata": {
        "id": "FIV4zkNin5SU"
      }
    },
    {
      "cell_type": "code",
      "source": [
        "#Use keras let us make the neural network easier to use\n",
        "layer = tf.keras.layers.Dense(units= 1, input_shape=[1])\n",
        "pattern = tf.keras.Sequential([layer])"
      ],
      "metadata": {
        "id": "TjVWi_YMjtHB"
      },
      "execution_count": null,
      "outputs": []
    },
    {
      "cell_type": "code",
      "source": [
        "#We are goin to use Adam\n",
        "pattern.compile(\n",
        "    optimizer=tf.keras.optimizers.Adam(0.1),\n",
        "    loss='mean_squared_error'\n",
        ")"
      ],
      "metadata": {
        "id": "YiMqHnhVkWV7"
      },
      "execution_count": null,
      "outputs": []
    },
    {
      "cell_type": "code",
      "source": [
        "print(\"Starting training..\")\n",
        "historial = pattern.fit(celcius,fahrenheit,epochs=1000,verbose=False)\n",
        "print(\"Trained model\")"
      ],
      "metadata": {
        "colab": {
          "base_uri": "https://localhost:8080/"
        },
        "id": "k44wGAc0koTC",
        "outputId": "9f6a5f12-0fc3-43e1-b860-f32c8074b1b6"
      },
      "execution_count": null,
      "outputs": [
        {
          "output_type": "stream",
          "name": "stdout",
          "text": [
            "Starting training..\n",
            "Trained model\n"
          ]
        }
      ]
    },
    {
      "cell_type": "code",
      "source": [
        "import matplotlib.pyplot as plt\n",
        "plt.xlabel(\"#Epoca\")\n",
        "plt.ylabel(\"Magnitud de perdida\")\n",
        "plt.plot(historial.history[\"loss\"])"
      ],
      "metadata": {
        "colab": {
          "base_uri": "https://localhost:8080/",
          "height": 299
        },
        "id": "yPkzNsLwk74D",
        "outputId": "4edb99a9-6ab1-4588-f0da-30561d49ceb0"
      },
      "execution_count": null,
      "outputs": [
        {
          "output_type": "execute_result",
          "data": {
            "text/plain": [
              "[<matplotlib.lines.Line2D at 0x7fc0237567d0>]"
            ]
          },
          "metadata": {},
          "execution_count": 6
        },
        {
          "output_type": "display_data",
          "data": {
            "image/png": "[encoded data removed]",
            "text/plain": [
              "<Figure size 432x288 with 1 Axes>"
            ]
          },
          "metadata": {
            "needs_background": "light"
          }
        }
      ]
    },
    {
      "cell_type": "code",
      "source": [
        "print(\"Let's check\")\n",
        "result = pattern.predict([100])\n",
        "print(\"The result is : \" + str(result) + \"fahrenheit\")"
      ],
      "metadata": {
        "colab": {
          "base_uri": "https://localhost:8080/"
        },
        "id": "DA8xezcjlWIW",
        "outputId": "59274cb2-aed9-4609-ff91-09bfe3576330"
      },
      "execution_count": null,
      "outputs": [
        {
          "output_type": "stream",
          "name": "stdout",
          "text": [
            "let's check\n",
            "The result is : [[211.74103]]fahrenheit\n"
          ]
        }
      ]
    },
    {
      "cell_type": "code",
      "source": [
        "print(\"Variables\")\n",
        "print(layer.get_weights())"
      ],
      "metadata": {
        "colab": {
          "base_uri": "https://localhost:8080/"
        },
        "id": "DMafhOhzl2vU",
        "outputId": "4b3f2e12-eb91-4f5e-c43f-2879af1230e4"
      },
      "execution_count": null,
      "outputs": [
        {
          "output_type": "stream",
          "name": "stdout",
          "text": [
            "Variables\n",
            "[array([[1.7983593]], dtype=float32), array([31.9051], dtype=float32)]\n"
          ]
        }
      ]
    },
    {
      "cell_type": "code",
      "source": [
        ""
      ],
      "metadata": {
        "id": "BVIoWgj5mI5j"
      },
      "execution_count": null,
      "outputs": []
    },
    {
      "cell_type": "markdown",
      "source": [
        "##Fahrenheit to Celcius"
      ],
      "metadata": {
        "id": "jeO8xopHo7TH"
      }
    },
    {
      "cell_type": "code",
      "source": [
        ""
      ],
      "metadata": {
        "id": "nJ_16cZFo_hJ"
      },
      "execution_count": null,
      "outputs": []
    },
    {
      "cell_type": "code",
      "source": [
        ""
      ],
      "metadata": {
        "id": "KBDDeCyVo9pp"
      },
      "execution_count": null,
      "outputs": []
    }
  ]
}