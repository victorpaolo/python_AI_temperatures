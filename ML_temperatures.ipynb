{
  "nbformat": 4,
  "nbformat_minor": 0,
  "metadata": {
    "colab": {
      "name": "ML_temperatures.ipynb",
      "provenance": [],
      "collapsed_sections": [],
      "authorship_tag": "ABX9TyO9ZGseUN4VUvMmuFe65nFw",
      "include_colab_link": true
    },
    "kernelspec": {
      "name": "python3",
      "display_name": "Python 3"
    },
    "language_info": {
      "name": "python"
    }
  },
  "cells": [
    {
      "cell_type": "markdown",
      "metadata": {
        "id": "view-in-github",
        "colab_type": "text"
      },
      "source": [
        "<a href=\"https://colab.research.google.com/github/victorpaolo/python_AI_temperatures/blob/main/ML_temperatures.ipynb\" target=\"_parent\"><img src=\"https://colab.research.google.com/assets/colab-badge.svg\" alt=\"Open In Colab\"/></a>"
      ]
    },
    {
      "cell_type": "markdown",
      "source": [
        "#Temperatures ML 2 ways\n",
        "Within this project we want to know how the Machine Learning works using TensorFlow (Google library for ML)\n",
        "\n",
        "\n"
      ],
      "metadata": {
        "id": "MiKFDOWCm37d"
      }
    },
    {
      "cell_type": "code",
      "execution_count": 2,
      "metadata": {
        "id": "YfZfz020i-3V"
      },
      "outputs": [],
      "source": [
        "import tensorflow as tf\n",
        "import numpy as np"
      ]
    },
    {
      "cell_type": "code",
      "source": [
        "celcius = np.array([-40,-10,0,8,15,22,38], dtype=float)\n",
        "fahrenheit = np.array([-40,14,32,46,59,72,100], dtype=float)"
      ],
      "metadata": {
        "id": "L0HasRKojE0G"
      },
      "execution_count": 3,
      "outputs": []
    },
    {
      "cell_type": "markdown",
      "source": [
        "##Celcius to Fahrenheit"
      ],
      "metadata": {
        "id": "FIV4zkNin5SU"
      }
    },
    {
      "cell_type": "code",
      "source": [
        "#Use keras let us make the neuron network easier to use\n",
        "#With Keras we can dense layer in order to connect each neuron from one layer to the  other ones in the following layer, but in this case we only have 2 neuron\n",
        "#input shape let us to determine how many neurons we use as input\n",
        "layer = tf.keras.layers.Dense(units= 1, input_shape=[1])\n",
        "#We need to use different kind of models - We use Sequetial one\n",
        "pattern = tf.keras.Sequential([layer])"
      ],
      "metadata": {
        "id": "TjVWi_YMjtHB"
      },
      "execution_count": 4,
      "outputs": []
    },
    {
      "cell_type": "code",
      "source": [
        "#Now it is time to compile the model which makes ready the model to get trained\n",
        "#We are going to use Adam as an optimizer (adjust the biased and wealth to learn) - 0.1 (better lower)\n",
        "#mean squared error - one big error is worse than a lot of small errors\n",
        "pattern.compile(\n",
        "    optimizer=tf.keras.optimizers.Adam(0.1),\n",
        "    loss='mean_squared_error'\n",
        ")"
      ],
      "metadata": {
        "id": "YiMqHnhVkWV7"
      },
      "execution_count": 5,
      "outputs": []
    },
    {
      "cell_type": "code",
      "source": [
        "#To train we use fit\n",
        "#epoch it is the number of repeating we want to make \n",
        "#verbose only to see the progress - funnier hehe\n",
        "print(\"Starting training..\")\n",
        "historial = pattern.fit(celcius,fahrenheit,epochs=1000,verbose=False)\n",
        "print(\"Trained model\")"
      ],
      "metadata": {
        "colab": {
          "base_uri": "https://localhost:8080/"
        },
        "id": "k44wGAc0koTC",
        "outputId": "b53a5bf4-b99d-49f5-a4cb-278826b7f46c"
      },
      "execution_count": 17,
      "outputs": [
        {
          "output_type": "stream",
          "name": "stdout",
          "text": [
            "Starting training..\n",
            "Trained model\n"
          ]
        }
      ]
    },
    {
      "cell_type": "code",
      "source": [
        "#This let us know how when we could stop the repetitiion and alreflects what the verbose result was.\n",
        "import matplotlib.pyplot as plt\n",
        "plt.xlabel(\"#Epoca\")\n",
        "plt.ylabel(\"Magnitud de perdida\")\n",
        "plt.plot(historial.history[\"loss\"])"
      ],
      "metadata": {
        "colab": {
          "base_uri": "https://localhost:8080/",
          "height": 299
        },
        "id": "yPkzNsLwk74D",
        "outputId": "4edb99a9-6ab1-4588-f0da-30561d49ceb0"
      },
      "execution_count": null,
      "outputs": [
        {
          "output_type": "execute_result",
          "data": {
            "text/plain": [
              "[<matplotlib.lines.Line2D at 0x7fc0237567d0>]"
            ]
          },
          "metadata": {},
          "execution_count": 6
        },
        {
          "output_type": "display_data",
          "data": {
            "image/png": "[encoded data removed]",
            "text/plain": [
              "<Figure size 432x288 with 1 Axes>"
            ]
          },
          "metadata": {
            "needs_background": "light"
          }
        }
      ]
    },
    {
      "cell_type": "code",
      "source": [
        "#Let's make a test\n",
        "print(\"Let's check\")\n",
        "result = pattern.predict([100])\n",
        "print(\"The result is : \" + str(result) + \"fahrenheit\")\n",
        "print(\"Real number is 212 fahrenheit\")"
      ],
      "metadata": {
        "colab": {
          "base_uri": "https://localhost:8080/"
        },
        "id": "DA8xezcjlWIW",
        "outputId": "dd2dbe84-a2ba-4359-ea36-d56923e5fe31"
      },
      "execution_count": 7,
      "outputs": [
        {
          "output_type": "stream",
          "name": "stdout",
          "text": [
            "Let's check\n",
            "The result is : [[211.74408]]fahrenheit\n",
            "Real number is 212 fahrenheit\n"
          ]
        }
      ]
    },
    {
      "cell_type": "code",
      "source": [
        "#With this we can checkhow the machine achive to the results\n",
        "print(\"Variables\")\n",
        "print(layer.get_weights())"
      ],
      "metadata": {
        "colab": {
          "base_uri": "https://localhost:8080/"
        },
        "id": "DMafhOhzl2vU",
        "outputId": "4b3f2e12-eb91-4f5e-c43f-2879af1230e4"
      },
      "execution_count": null,
      "outputs": [
        {
          "output_type": "stream",
          "name": "stdout",
          "text": [
            "Variables\n",
            "[array([[1.7983593]], dtype=float32), array([31.9051], dtype=float32)]\n"
          ]
        }
      ]
    },
    {
      "cell_type": "markdown",
      "source": [
        "##Fahrenheit to Celcius"
      ],
      "metadata": {
        "id": "jeO8xopHo7TH"
      }
    },
    {
      "cell_type": "code",
      "source": [
        "fahrenheit2 = np.array([-40,14,32,46,59,72,100], dtype=float)\n",
        "celcius2 = np.array([-40,-10,0,8,15,22,38], dtype=float)"
      ],
      "metadata": {
        "id": "nJ_16cZFo_hJ"
      },
      "execution_count": 8,
      "outputs": []
    },
    {
      "cell_type": "code",
      "source": [
        "layer2 = tf.keras.layers.Dense(units= 1, input_shape=[1])\n",
        "pattern2 = tf.keras.Sequential([layer2])"
      ],
      "metadata": {
        "id": "KBDDeCyVo9pp"
      },
      "execution_count": 9,
      "outputs": []
    },
    {
      "cell_type": "code",
      "source": [
        "pattern2.compile(\n",
        "    optimizer=tf.keras.optimizers.Adam(0.1),\n",
        "    loss='mean_squared_error'\n",
        ")"
      ],
      "metadata": {
        "id": "n5U933uOxtq1"
      },
      "execution_count": 10,
      "outputs": []
    },
    {
      "cell_type": "code",
      "source": [
        "print(\"Starting training..\")\n",
        "historical2 = pattern2.fit(fahrenheit2,celcius2,epochs=1000,verbose=False)\n",
        "print(\"Trained model\")"
      ],
      "metadata": {
        "colab": {
          "base_uri": "https://localhost:8080/"
        },
        "id": "YJCKVd7vxwle",
        "outputId": "725b2a86-37bd-4d91-9cd6-b6e2fbc83fff"
      },
      "execution_count": 11,
      "outputs": [
        {
          "output_type": "stream",
          "name": "stdout",
          "text": [
            "Starting training..\n",
            "Trained model\n"
          ]
        }
      ]
    },
    {
      "cell_type": "code",
      "source": [
        "import matplotlib.pyplot as plt\n",
        "plt.xlabel(\"#Epoca\")\n",
        "plt.ylabel(\"Magnitud de perdida\")\n",
        "plt.plot(historical2.history[\"loss\"])"
      ],
      "metadata": {
        "colab": {
          "base_uri": "https://localhost:8080/",
          "height": 296
        },
        "id": "oIU1WSbcx_fZ",
        "outputId": "09ff9c7d-d6ce-45eb-c221-dfeab7552c2b"
      },
      "execution_count": 13,
      "outputs": [
        {
          "output_type": "execute_result",
          "data": {
            "text/plain": [
              "[<matplotlib.lines.Line2D at 0x7f35d595a4d0>]"
            ]
          },
          "metadata": {},
          "execution_count": 13
        },
        {
          "output_type": "display_data",
          "data": {
            "image/png": "[encoded data removed]",
            "text/plain": [
              "<Figure size 432x288 with 1 Axes>"
            ]
          },
          "metadata": {
            "needs_background": "light"
          }
        }
      ]
    },
    {
      "cell_type": "code",
      "source": [
        "print(\"Let's check\")\n",
        "result2 = pattern2.predict([212])\n",
        "print(\"The result is : \" + str(result2) + \"celcius\")\n",
        "print(\"Real number is 100 celcius\")"
      ],
      "metadata": {
        "colab": {
          "base_uri": "https://localhost:8080/"
        },
        "id": "yl-ANt7ayD51",
        "outputId": "83a72842-7f87-4b12-dce3-8ec0d58625f9"
      },
      "execution_count": 16,
      "outputs": [
        {
          "output_type": "stream",
          "name": "stdout",
          "text": [
            "Let's check\n",
            "The result is : [[100.13695]]celcius\n",
            "Real number is 100 celcius\n"
          ]
        }
      ]
    },
    {
      "cell_type": "code",
      "source": [
        "print(\"Variables\")\n",
        "print(layer2.get_weights())"
      ],
      "metadata": {
        "colab": {
          "base_uri": "https://localhost:8080/"
        },
        "id": "eGHD7oqwyPXg",
        "outputId": "4a8c6dd1-18b1-4725-fe7b-0e7afface17f"
      },
      "execution_count": 15,
      "outputs": [
        {
          "output_type": "stream",
          "name": "stdout",
          "text": [
            "Variables\n",
            "[array([[0.5561686]], dtype=float32), array([-17.770802], dtype=float32)]\n"
          ]
        }
      ]
    }
  ]
}